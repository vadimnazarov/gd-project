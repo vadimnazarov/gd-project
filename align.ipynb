{
 "cells": [
  {
   "cell_type": "code",
   "execution_count": 88,
   "metadata": {
    "collapsed": false
   },
   "outputs": [],
   "source": [
    "%matplotlib inline\n",
    "\n",
    "import pandas as pd\n",
    "from Bio import pairwise2\n",
    "import seaborn\n",
    "import matplotlib.pyplot as plt\n",
    "import os"
   ]
  },
  {
   "cell_type": "code",
   "execution_count": 52,
   "metadata": {
    "collapsed": false
   },
   "outputs": [
    {
     "data": {
      "text/html": [
       "<div>\n",
       "<table border=\"1\" class=\"dataframe\">\n",
       "  <thead>\n",
       "    <tr style=\"text-align: right;\">\n",
       "      <th></th>\n",
       "      <th>#count</th>\n",
       "      <th>freq</th>\n",
       "      <th>cdr3nt</th>\n",
       "      <th>cdr3aa</th>\n",
       "      <th>v</th>\n",
       "      <th>d</th>\n",
       "      <th>j</th>\n",
       "      <th>VEnd</th>\n",
       "      <th>DStart</th>\n",
       "      <th>DEnd</th>\n",
       "      <th>JStart</th>\n",
       "    </tr>\n",
       "  </thead>\n",
       "  <tbody>\n",
       "    <tr>\n",
       "      <th>0</th>\n",
       "      <td>123727</td>\n",
       "      <td>0.486201</td>\n",
       "      <td>TGTGCCTGCCGATTTGGGTACTGGGGGTCCACCGATAAACTCATCTTT</td>\n",
       "      <td>CACRFGYWGSTDKLIF</td>\n",
       "      <td>TRDV2</td>\n",
       "      <td>TRDD3</td>\n",
       "      <td>TRDJ1</td>\n",
       "      <td>7</td>\n",
       "      <td>19</td>\n",
       "      <td>26</td>\n",
       "      <td>29</td>\n",
       "    </tr>\n",
       "    <tr>\n",
       "      <th>1</th>\n",
       "      <td>45214</td>\n",
       "      <td>0.177674</td>\n",
       "      <td>TGTGCTCTTGGGGAACGTTCCCTTCCTGCCAAACGATATGGGGTGC...</td>\n",
       "      <td>CALGERSLPAKRYGVLGISLPYTDKLIF</td>\n",
       "      <td>TRDV1</td>\n",
       "      <td>TRDD3</td>\n",
       "      <td>TRDJ1</td>\n",
       "      <td>15</td>\n",
       "      <td>47</td>\n",
       "      <td>53</td>\n",
       "      <td>64</td>\n",
       "    </tr>\n",
       "    <tr>\n",
       "      <th>2</th>\n",
       "      <td>23672</td>\n",
       "      <td>0.093022</td>\n",
       "      <td>TGTGCCTCCCTAGGCCTTCCTACGGGGCTGGGGGAAAAACTCATCTTT</td>\n",
       "      <td>CASLGLPTGLGEKLIF</td>\n",
       "      <td>TRDV2</td>\n",
       "      <td>TRDD2</td>\n",
       "      <td>TRDJ1</td>\n",
       "      <td>6</td>\n",
       "      <td>14</td>\n",
       "      <td>22</td>\n",
       "      <td>33</td>\n",
       "    </tr>\n",
       "    <tr>\n",
       "      <th>3</th>\n",
       "      <td>19940</td>\n",
       "      <td>0.078357</td>\n",
       "      <td>TGTGCTCTTGGGGAGAGCCCCTGGAGGTCAAACTGTGTATTAAAAA...</td>\n",
       "      <td>CALGESPWRSNCVLKTTHLTAQLFF</td>\n",
       "      <td>TRDV1</td>\n",
       "      <td>.</td>\n",
       "      <td>TRDJ2</td>\n",
       "      <td>13</td>\n",
       "      <td>-1</td>\n",
       "      <td>-1</td>\n",
       "      <td>53</td>\n",
       "    </tr>\n",
       "    <tr>\n",
       "      <th>4</th>\n",
       "      <td>18225</td>\n",
       "      <td>0.071617</td>\n",
       "      <td>TGTGCTCTTGGGGAACGGAGAGGGTACTGGGGTCCCACCGATAAAC...</td>\n",
       "      <td>CALGERRGYWGPTDKLIF</td>\n",
       "      <td>TRDV1</td>\n",
       "      <td>TRDD3</td>\n",
       "      <td>TRDJ1</td>\n",
       "      <td>15</td>\n",
       "      <td>25</td>\n",
       "      <td>31</td>\n",
       "      <td>35</td>\n",
       "    </tr>\n",
       "  </tbody>\n",
       "</table>\n",
       "</div>"
      ],
      "text/plain": [
       "   #count      freq                                             cdr3nt  \\\n",
       "0  123727  0.486201   TGTGCCTGCCGATTTGGGTACTGGGGGTCCACCGATAAACTCATCTTT   \n",
       "1   45214  0.177674  TGTGCTCTTGGGGAACGTTCCCTTCCTGCCAAACGATATGGGGTGC...   \n",
       "2   23672  0.093022   TGTGCCTCCCTAGGCCTTCCTACGGGGCTGGGGGAAAAACTCATCTTT   \n",
       "3   19940  0.078357  TGTGCTCTTGGGGAGAGCCCCTGGAGGTCAAACTGTGTATTAAAAA...   \n",
       "4   18225  0.071617  TGTGCTCTTGGGGAACGGAGAGGGTACTGGGGTCCCACCGATAAAC...   \n",
       "\n",
       "                         cdr3aa      v      d      j  VEnd  DStart  DEnd  \\\n",
       "0              CACRFGYWGSTDKLIF  TRDV2  TRDD3  TRDJ1     7      19    26   \n",
       "1  CALGERSLPAKRYGVLGISLPYTDKLIF  TRDV1  TRDD3  TRDJ1    15      47    53   \n",
       "2              CASLGLPTGLGEKLIF  TRDV2  TRDD2  TRDJ1     6      14    22   \n",
       "3     CALGESPWRSNCVLKTTHLTAQLFF  TRDV1      .  TRDJ2    13      -1    -1   \n",
       "4            CALGERRGYWGPTDKLIF  TRDV1  TRDD3  TRDJ1    15      25    31   \n",
       "\n",
       "   JStart  \n",
       "0      29  \n",
       "1      64  \n",
       "2      33  \n",
       "3      53  \n",
       "4      35  "
      ]
     },
     "execution_count": 52,
     "metadata": {},
     "output_type": "execute_result"
    }
   ],
   "source": [
    "# TODO: merge D1 and D2\n",
    "Dsegments = {\"D1\": \"GAAATAGT\", \n",
    "             \"D2\": \"CCTTCCTAC\", \n",
    "             \"D3\": \"ACTGGGGGATACG\", \n",
    "             \"D2D3\": \"CCTTCCTACACTGGGGGATACG\"}\n",
    "filepath = \"./data/britain/vdj.10_TRD_full.txt\"\n",
    "df = pd.read_csv(filepath, sep = \"\\t\")\n",
    "df.head()"
   ]
  },
  {
   "cell_type": "code",
   "execution_count": 112,
   "metadata": {
    "collapsed": false
   },
   "outputs": [
    {
     "name": "stdout",
     "output_type": "stream",
     "text": [
      "Alignment:\t [(6, 8, 3, 'D2D3')]\n"
     ]
    },
    {
     "ename": "IndexError",
     "evalue": "list index out of range",
     "output_type": "error",
     "traceback": [
      "\u001b[0;31m---------------------------------------------------------------------------\u001b[0m",
      "\u001b[0;31mIndexError\u001b[0m                                Traceback (most recent call last)",
      "\u001b[0;32m<ipython-input-112-99593ef6e222>\u001b[0m in \u001b[0;36m<module>\u001b[0;34m()\u001b[0m\n\u001b[1;32m    110\u001b[0m                 \u001b[0mdf\u001b[0m\u001b[0;34m.\u001b[0m\u001b[0mloc\u001b[0m\u001b[0;34m[\u001b[0m\u001b[0mi\u001b[0m\u001b[0;34m,\u001b[0m \u001b[0;34m\"D.new\"\u001b[0m\u001b[0;34m]\u001b[0m \u001b[0;34m+=\u001b[0m \u001b[0;34m(\u001b[0m\u001b[0;34m\",\"\u001b[0m \u001b[0;32mif\u001b[0m \u001b[0mj\u001b[0m \u001b[0;34m!=\u001b[0m \u001b[0;36m0\u001b[0m \u001b[0;32melse\u001b[0m \u001b[0;34m\"\"\u001b[0m\u001b[0;34m)\u001b[0m \u001b[0;34m+\u001b[0m \u001b[0ma\u001b[0m\u001b[0;34m[\u001b[0m\u001b[0;36m3\u001b[0m\u001b[0;34m]\u001b[0m\u001b[0;34m\u001b[0m\u001b[0m\n\u001b[1;32m    111\u001b[0m \u001b[0;34m\u001b[0m\u001b[0m\n\u001b[0;32m--> 112\u001b[0;31m \u001b[0malign_df\u001b[0m\u001b[0;34m(\u001b[0m\u001b[0mdf\u001b[0m\u001b[0;34m,\u001b[0m \u001b[0mDsegments\u001b[0m\u001b[0;34m,\u001b[0m \u001b[0;36m3\u001b[0m\u001b[0;34m)\u001b[0m\u001b[0;34m\u001b[0m\u001b[0m\n\u001b[0m",
      "\u001b[0;32m<ipython-input-112-99593ef6e222>\u001b[0m in \u001b[0;36malign_df\u001b[0;34m(df, Dsegments, min_len)\u001b[0m\n\u001b[1;32m    102\u001b[0m     \u001b[0mdf\u001b[0m\u001b[0;34m[\u001b[0m\u001b[0;34m\"D3.new2\"\u001b[0m\u001b[0;34m]\u001b[0m \u001b[0;34m=\u001b[0m \u001b[0;34m-\u001b[0m\u001b[0;36m1\u001b[0m\u001b[0;34m\u001b[0m\u001b[0m\n\u001b[1;32m    103\u001b[0m     \u001b[0;32mfor\u001b[0m \u001b[0mi\u001b[0m \u001b[0;32min\u001b[0m \u001b[0mrange\u001b[0m\u001b[0;34m(\u001b[0m\u001b[0;36m1793\u001b[0m\u001b[0;34m,\u001b[0m \u001b[0;36m1795\u001b[0m\u001b[0;34m)\u001b[0m\u001b[0;34m:\u001b[0m\u001b[0;34m\u001b[0m\u001b[0m\n\u001b[0;32m--> 104\u001b[0;31m         \u001b[0malg\u001b[0m \u001b[0;34m=\u001b[0m \u001b[0mfind_the_longest\u001b[0m\u001b[0;34m(\u001b[0m\u001b[0mdf\u001b[0m\u001b[0;34m[\u001b[0m\u001b[0;34m\"cdr3nt\"\u001b[0m\u001b[0;34m]\u001b[0m\u001b[0;34m[\u001b[0m\u001b[0mi\u001b[0m\u001b[0;34m]\u001b[0m\u001b[0;34m,\u001b[0m \u001b[0mdf\u001b[0m\u001b[0;34m[\u001b[0m\u001b[0;34m\"VEnd\"\u001b[0m\u001b[0;34m]\u001b[0m\u001b[0;34m[\u001b[0m\u001b[0mi\u001b[0m\u001b[0;34m]\u001b[0m \u001b[0;34m+\u001b[0m \u001b[0;36m1\u001b[0m\u001b[0;34m,\u001b[0m \u001b[0mdf\u001b[0m\u001b[0;34m[\u001b[0m\u001b[0;34m\"JStart\"\u001b[0m\u001b[0;34m]\u001b[0m\u001b[0;34m[\u001b[0m\u001b[0mi\u001b[0m\u001b[0;34m]\u001b[0m\u001b[0;34m,\u001b[0m \u001b[0mDsegments\u001b[0m\u001b[0;34m,\u001b[0m \u001b[0mmin_len\u001b[0m\u001b[0;34m)\u001b[0m\u001b[0;34m\u001b[0m\u001b[0m\n\u001b[0m\u001b[1;32m    105\u001b[0m         \u001b[0;32mif\u001b[0m \u001b[0malg\u001b[0m\u001b[0;34m:\u001b[0m\u001b[0;34m\u001b[0m\u001b[0m\n\u001b[1;32m    106\u001b[0m             \u001b[0mdf\u001b[0m\u001b[0;34m.\u001b[0m\u001b[0mloc\u001b[0m\u001b[0;34m[\u001b[0m\u001b[0mi\u001b[0m\u001b[0;34m,\u001b[0m \u001b[0;34m\"D.new\"\u001b[0m\u001b[0;34m]\u001b[0m \u001b[0;34m=\u001b[0m \u001b[0;34m\"\"\u001b[0m\u001b[0;34m\u001b[0m\u001b[0m\n",
      "\u001b[0;32m<ipython-input-112-99593ef6e222>\u001b[0m in \u001b[0;36mfind_the_longest\u001b[0;34m(seq, start, end, Dsegments, min_len)\u001b[0m\n\u001b[1;32m     79\u001b[0m         \u001b[0;32mif\u001b[0m \u001b[0mres\u001b[0m\u001b[0;34m:\u001b[0m\u001b[0;34m\u001b[0m\u001b[0m\n\u001b[1;32m     80\u001b[0m             \u001b[0;32mif\u001b[0m \u001b[0mres\u001b[0m\u001b[0;34m[\u001b[0m\u001b[0;36m0\u001b[0m\u001b[0;34m]\u001b[0m\u001b[0;34m[\u001b[0m\u001b[0;36m3\u001b[0m\u001b[0;34m]\u001b[0m \u001b[0;34m==\u001b[0m \u001b[0;34m\"D2D3\"\u001b[0m\u001b[0;34m:\u001b[0m\u001b[0;34m\u001b[0m\u001b[0m\n\u001b[0;32m---> 81\u001b[0;31m                 \u001b[0;32mif\u001b[0m \u001b[0mres\u001b[0m\u001b[0;34m[\u001b[0m\u001b[0;36m0\u001b[0m\u001b[0;34m]\u001b[0m\u001b[0;34m[\u001b[0m\u001b[0;36m2\u001b[0m\u001b[0;34m]\u001b[0m \u001b[0;34m>\u001b[0m \u001b[0mres\u001b[0m\u001b[0;34m[\u001b[0m\u001b[0;36m1\u001b[0m\u001b[0;34m]\u001b[0m\u001b[0;34m[\u001b[0m\u001b[0;36m2\u001b[0m\u001b[0;34m]\u001b[0m\u001b[0;34m:\u001b[0m\u001b[0;34m\u001b[0m\u001b[0m\n\u001b[0m\u001b[1;32m     82\u001b[0m                     \u001b[0;31m# if so then this is true D2D3 without N alignment\u001b[0m\u001b[0;34m\u001b[0m\u001b[0;34m\u001b[0m\u001b[0m\n\u001b[1;32m     83\u001b[0m                     \u001b[0;32mreturn\u001b[0m \u001b[0;34m[\u001b[0m\u001b[0mres\u001b[0m\u001b[0;34m[\u001b[0m\u001b[0;36m0\u001b[0m\u001b[0;34m]\u001b[0m\u001b[0;34m]\u001b[0m\u001b[0;34m\u001b[0m\u001b[0m\n",
      "\u001b[0;31mIndexError\u001b[0m: list index out of range"
     ]
    }
   ],
   "source": [
    "# TODO: merge D1 and D2\n",
    "Dsegments = {\"D1\": \"GAAATAGT\", \n",
    "             \"D2\": \"CCTTCCTAC\", \n",
    "             \"D3\": \"ACTGGGGGATACG\", \n",
    "             \"D2D3\": \"CCTTCCTACACTGGGGGATACG\"}\n",
    "filepath = \"./data/britain/vdj.10_TRD_full.txt\"\n",
    "filepath = \"./data/holland//donor11.raw.cdrblast.txt\"\n",
    "df = pd.read_csv(filepath, sep = \"\\t\")\n",
    "\n",
    "\n",
    "def cut_ends(a):\n",
    "    res = \"\"\n",
    "    for i in range(len(a[0])):\n",
    "        if a[0][i] == a[1][i]:\n",
    "            res += a[1][i]\n",
    "        elif a[1][i] == \"-\":\n",
    "            res += \"-\"\n",
    "        else:\n",
    "            res += \"*\"\n",
    "    return (a[0], res, a[2], a[3])\n",
    "\n",
    "\n",
    "def pretty(a):\n",
    "    print(a[0])\n",
    "    print(a[1])\n",
    "    \n",
    "\n",
    "def get_all_alignments(seq, Dsegments, min_len):\n",
    "    \n",
    "    def get_start_end_len(a):\n",
    "        start = -1\n",
    "        end = -1\n",
    "        \n",
    "        max_start, max_end, max_len = -1, -1, -1\n",
    "        for i in range(0, len(a[0])):\n",
    "            if a[0][i] == \"-\" or a[1][i] == \"-\":\n",
    "                if end - start + 1 > max_len:\n",
    "                    max_start = start\n",
    "                    max_end = end\n",
    "                    max_len = end - start + 1\n",
    "                start = -1\n",
    "                end = -1\n",
    "            else:\n",
    "                if a[0][i] == a[1][i]:\n",
    "                    if start == -1:\n",
    "                        start = i\n",
    "                    end = i\n",
    "                else:\n",
    "                    if end - start + 1 > max_len:\n",
    "                        max_start = start\n",
    "                        max_end = end\n",
    "                        max_len = end - start + 1\n",
    "\n",
    "                    start = -1\n",
    "                    end = -1\n",
    "        \n",
    "        return max_start, max_end, max_len\n",
    "    \n",
    "    D_alignments = []\n",
    "    for D_name, D in Dsegments.items():\n",
    "        a = pairwise2.align.globalxs(seq, D, -3, -3, penalize_end_gaps = False)[0]\n",
    "        cur_start, cur_end, cur_len = get_start_end_len(a)\n",
    "#         pretty(cut_ends(a))\n",
    "#         print(cur_start, cur_end, cur_len)\n",
    "        D_alignments.append((cur_start, cur_end, cur_len, D_name))\n",
    "            \n",
    "    D_alignments = sorted(D_alignments, reverse = True, key = lambda x: x[3])\n",
    "    D_alignments = sorted(D_alignments, reverse = True, key = lambda x: len(x[3]))\n",
    "    D_alignments = sorted(D_alignments, reverse = True, key = lambda x: x[2])\n",
    "    return list(filter(lambda x: x[2] >= min_len, D_alignments))\n",
    "\n",
    "\n",
    "def find_the_longest(seq, start, end, Dsegments, min_len):\n",
    "    if end - start > min_len - 1:\n",
    "        res = get_all_alignments(seq[start:end], Dsegments, min_len)\n",
    "        print(\"Alignment:\\t\", res)\n",
    "        # if the best score is D2D3,\n",
    "        # check if D2D3 score better than D2 or D3\n",
    "        if res:\n",
    "            if res[0][3] == \"D2D3\":\n",
    "                if res[0][2] > res[1][2]:\n",
    "                    # if so then this is true D2D3 without N alignment\n",
    "                    return [res[0]]\n",
    "                else:\n",
    "                    # otherwise it's just one of the D2, D3 or D2-N-D3 alignment\n",
    "                    # so just pop it\n",
    "                    res.pop(0)\n",
    "\n",
    "            if res:\n",
    "                # if the best score isn't D2D3,\n",
    "                # then check for dual alignments\n",
    "                return sorted((filter(lambda x: x[2] == res[0][2], res)), key = lambda x: x[0])\n",
    "\n",
    "    return []\n",
    "\n",
    "\n",
    "def align_df(df, Dsegments, min_len):\n",
    "    df[\"D.new\"] = \"NA\"\n",
    "    df[\"D5.new1\"] = -1\n",
    "    df[\"D3.new1\"] = -1\n",
    "    df[\"D5.new2\"] = -1\n",
    "    df[\"D3.new2\"] = -1\n",
    "    for i in range(1793, 1795):\n",
    "        alg = find_the_longest(df[\"cdr3nt\"][i], df[\"VEnd\"][i] + 1, df[\"JStart\"][i], Dsegments, min_len)\n",
    "        if alg:\n",
    "            df.loc[i, \"D.new\"] = \"\"\n",
    "            for j, a in enumerate(alg):\n",
    "                df.loc[i, \"D5.new\" + str(j+1)] = a[0]\n",
    "                df.loc[i, \"D3.new\" + str(j+1)] = a[1]\n",
    "                df.loc[i, \"D.new\"] += (\",\" if j != 0 else \"\") + a[3]\n",
    "\n",
    "align_df(df, Dsegments, 3)"
   ]
  },
  {
   "cell_type": "code",
   "execution_count": 98,
   "metadata": {
    "collapsed": false
   },
   "outputs": [
    {
     "name": "stdout",
     "output_type": "stream",
     "text": [
      "./data/holland//donor11.raw.cdrblast.txt\n"
     ]
    },
    {
     "ename": "IndexError",
     "evalue": "list index out of range",
     "output_type": "error",
     "traceback": [
      "\u001b[0;31m---------------------------------------------------------------------------\u001b[0m",
      "\u001b[0;31mIndexError\u001b[0m                                Traceback (most recent call last)",
      "\u001b[0;32m<ipython-input-98-2a88f8cff58e>\u001b[0m in \u001b[0;36m<module>\u001b[0;34m()\u001b[0m\n\u001b[1;32m      7\u001b[0m     \u001b[0mprint\u001b[0m\u001b[0;34m(\u001b[0m\u001b[0mfile\u001b[0m\u001b[0;34m)\u001b[0m\u001b[0;34m\u001b[0m\u001b[0m\n\u001b[1;32m      8\u001b[0m     \u001b[0mdf\u001b[0m \u001b[0;34m=\u001b[0m \u001b[0mpd\u001b[0m\u001b[0;34m.\u001b[0m\u001b[0mread_csv\u001b[0m\u001b[0;34m(\u001b[0m\u001b[0mfile\u001b[0m\u001b[0;34m,\u001b[0m \u001b[0msep\u001b[0m \u001b[0;34m=\u001b[0m \u001b[0;34m\"\\t\"\u001b[0m\u001b[0;34m)\u001b[0m\u001b[0;34m\u001b[0m\u001b[0m\n\u001b[0;32m----> 9\u001b[0;31m     \u001b[0malign_df\u001b[0m\u001b[0;34m(\u001b[0m\u001b[0mdf\u001b[0m\u001b[0;34m,\u001b[0m \u001b[0mDsegments\u001b[0m\u001b[0;34m,\u001b[0m \u001b[0;36m3\u001b[0m\u001b[0;34m)\u001b[0m\u001b[0;34m\u001b[0m\u001b[0m\n\u001b[0m\u001b[1;32m     10\u001b[0m     \u001b[0maxes\u001b[0m\u001b[0;34m[\u001b[0m\u001b[0mi\u001b[0m \u001b[0;34m//\u001b[0m \u001b[0;36m2\u001b[0m\u001b[0;34m]\u001b[0m\u001b[0;34m[\u001b[0m\u001b[0mi\u001b[0m \u001b[0;34m%\u001b[0m \u001b[0;36m2\u001b[0m\u001b[0;34m]\u001b[0m\u001b[0;34m.\u001b[0m\u001b[0mset_ylabel\u001b[0m\u001b[0;34m(\u001b[0m\u001b[0mfile\u001b[0m\u001b[0;34m)\u001b[0m\u001b[0;34m\u001b[0m\u001b[0m\n",
      "\u001b[0;32m<ipython-input-85-54ac068373dd>\u001b[0m in \u001b[0;36malign_df\u001b[0;34m(df, Dsegments, min_len)\u001b[0m\n\u001b[1;32m    101\u001b[0m     \u001b[0;32mfor\u001b[0m \u001b[0mi\u001b[0m \u001b[0;32min\u001b[0m \u001b[0mrange\u001b[0m\u001b[0;34m(\u001b[0m\u001b[0mlen\u001b[0m\u001b[0;34m(\u001b[0m\u001b[0mdf\u001b[0m\u001b[0;34m)\u001b[0m\u001b[0;34m)\u001b[0m\u001b[0;34m:\u001b[0m\u001b[0;34m\u001b[0m\u001b[0m\n\u001b[1;32m    102\u001b[0m \u001b[0;31m#     for i in range(1):\u001b[0m\u001b[0;34m\u001b[0m\u001b[0;34m\u001b[0m\u001b[0m\n\u001b[0;32m--> 103\u001b[0;31m         \u001b[0malg\u001b[0m \u001b[0;34m=\u001b[0m \u001b[0mfind_the_longest\u001b[0m\u001b[0;34m(\u001b[0m\u001b[0mdf\u001b[0m\u001b[0;34m[\u001b[0m\u001b[0;34m\"cdr3nt\"\u001b[0m\u001b[0;34m]\u001b[0m\u001b[0;34m[\u001b[0m\u001b[0mi\u001b[0m\u001b[0;34m]\u001b[0m\u001b[0;34m,\u001b[0m \u001b[0mdf\u001b[0m\u001b[0;34m[\u001b[0m\u001b[0;34m\"VEnd\"\u001b[0m\u001b[0;34m]\u001b[0m\u001b[0;34m[\u001b[0m\u001b[0mi\u001b[0m\u001b[0;34m]\u001b[0m \u001b[0;34m+\u001b[0m \u001b[0;36m1\u001b[0m\u001b[0;34m,\u001b[0m \u001b[0mdf\u001b[0m\u001b[0;34m[\u001b[0m\u001b[0;34m\"JStart\"\u001b[0m\u001b[0;34m]\u001b[0m\u001b[0;34m[\u001b[0m\u001b[0mi\u001b[0m\u001b[0;34m]\u001b[0m\u001b[0;34m,\u001b[0m \u001b[0mDsegments\u001b[0m\u001b[0;34m,\u001b[0m \u001b[0mmin_len\u001b[0m\u001b[0;34m)\u001b[0m\u001b[0;34m\u001b[0m\u001b[0m\n\u001b[0m\u001b[1;32m    104\u001b[0m         \u001b[0;32mif\u001b[0m \u001b[0malg\u001b[0m\u001b[0;34m:\u001b[0m\u001b[0;34m\u001b[0m\u001b[0m\n\u001b[1;32m    105\u001b[0m             \u001b[0mdf\u001b[0m\u001b[0;34m.\u001b[0m\u001b[0mloc\u001b[0m\u001b[0;34m[\u001b[0m\u001b[0mi\u001b[0m\u001b[0;34m,\u001b[0m \u001b[0;34m\"D.new\"\u001b[0m\u001b[0;34m]\u001b[0m \u001b[0;34m=\u001b[0m \u001b[0;34m\"\"\u001b[0m\u001b[0;34m\u001b[0m\u001b[0m\n",
      "\u001b[0;32m<ipython-input-85-54ac068373dd>\u001b[0m in \u001b[0;36mfind_the_longest\u001b[0;34m(seq, start, end, Dsegments, min_len)\u001b[0m\n\u001b[1;32m     71\u001b[0m \u001b[0;34m\u001b[0m\u001b[0m\n\u001b[1;32m     72\u001b[0m \u001b[0;32mdef\u001b[0m \u001b[0mfind_the_longest\u001b[0m\u001b[0;34m(\u001b[0m\u001b[0mseq\u001b[0m\u001b[0;34m,\u001b[0m \u001b[0mstart\u001b[0m\u001b[0;34m,\u001b[0m \u001b[0mend\u001b[0m\u001b[0;34m,\u001b[0m \u001b[0mDsegments\u001b[0m\u001b[0;34m,\u001b[0m \u001b[0mmin_len\u001b[0m\u001b[0;34m)\u001b[0m\u001b[0;34m:\u001b[0m\u001b[0;34m\u001b[0m\u001b[0m\n\u001b[0;32m---> 73\u001b[0;31m     \u001b[0mres\u001b[0m \u001b[0;34m=\u001b[0m \u001b[0mget_all_alignments\u001b[0m\u001b[0;34m(\u001b[0m\u001b[0mseq\u001b[0m\u001b[0;34m[\u001b[0m\u001b[0mstart\u001b[0m\u001b[0;34m:\u001b[0m\u001b[0mend\u001b[0m\u001b[0;34m]\u001b[0m\u001b[0;34m,\u001b[0m \u001b[0mDsegments\u001b[0m\u001b[0;34m,\u001b[0m \u001b[0mmin_len\u001b[0m\u001b[0;34m)\u001b[0m\u001b[0;34m\u001b[0m\u001b[0m\n\u001b[0m\u001b[1;32m     74\u001b[0m \u001b[0;31m#     print(\"Alignment:\\t\", res)\u001b[0m\u001b[0;34m\u001b[0m\u001b[0;34m\u001b[0m\u001b[0m\n\u001b[1;32m     75\u001b[0m     \u001b[0;31m# if the best score is D2D3,\u001b[0m\u001b[0;34m\u001b[0m\u001b[0;34m\u001b[0m\u001b[0m\n",
      "\u001b[0;32m<ipython-input-85-54ac068373dd>\u001b[0m in \u001b[0;36mget_all_alignments\u001b[0;34m(seq, Dsegments, min_len)\u001b[0m\n\u001b[1;32m     58\u001b[0m     \u001b[0mD_alignments\u001b[0m \u001b[0;34m=\u001b[0m \u001b[0;34m[\u001b[0m\u001b[0;34m]\u001b[0m\u001b[0;34m\u001b[0m\u001b[0m\n\u001b[1;32m     59\u001b[0m     \u001b[0;32mfor\u001b[0m \u001b[0mD_name\u001b[0m\u001b[0;34m,\u001b[0m \u001b[0mD\u001b[0m \u001b[0;32min\u001b[0m \u001b[0mDsegments\u001b[0m\u001b[0;34m.\u001b[0m\u001b[0mitems\u001b[0m\u001b[0;34m(\u001b[0m\u001b[0;34m)\u001b[0m\u001b[0;34m:\u001b[0m\u001b[0;34m\u001b[0m\u001b[0m\n\u001b[0;32m---> 60\u001b[0;31m         \u001b[0ma\u001b[0m \u001b[0;34m=\u001b[0m \u001b[0mpairwise2\u001b[0m\u001b[0;34m.\u001b[0m\u001b[0malign\u001b[0m\u001b[0;34m.\u001b[0m\u001b[0mglobalxs\u001b[0m\u001b[0;34m(\u001b[0m\u001b[0mseq\u001b[0m\u001b[0;34m,\u001b[0m \u001b[0mD\u001b[0m\u001b[0;34m,\u001b[0m \u001b[0;34m-\u001b[0m\u001b[0;36m3\u001b[0m\u001b[0;34m,\u001b[0m \u001b[0;34m-\u001b[0m\u001b[0;36m3\u001b[0m\u001b[0;34m,\u001b[0m \u001b[0mpenalize_end_gaps\u001b[0m \u001b[0;34m=\u001b[0m \u001b[0;32mFalse\u001b[0m\u001b[0;34m)\u001b[0m\u001b[0;34m[\u001b[0m\u001b[0;36m0\u001b[0m\u001b[0;34m]\u001b[0m\u001b[0;34m\u001b[0m\u001b[0m\n\u001b[0m\u001b[1;32m     61\u001b[0m         \u001b[0mcur_start\u001b[0m\u001b[0;34m,\u001b[0m \u001b[0mcur_end\u001b[0m\u001b[0;34m,\u001b[0m \u001b[0mcur_len\u001b[0m \u001b[0;34m=\u001b[0m \u001b[0mget_start_end_len\u001b[0m\u001b[0;34m(\u001b[0m\u001b[0ma\u001b[0m\u001b[0;34m)\u001b[0m\u001b[0;34m\u001b[0m\u001b[0m\n\u001b[1;32m     62\u001b[0m \u001b[0;31m#         pretty(cut_ends(a))\u001b[0m\u001b[0;34m\u001b[0m\u001b[0;34m\u001b[0m\u001b[0m\n",
      "\u001b[0;31mIndexError\u001b[0m: list index out of range"
     ]
    },
    {
     "data": {
      "image/png": "[encoded data removed]",
      "text/plain": [
       "<matplotlib.figure.Figure at 0x11622c710>"
      ]
     },
     "metadata": {},
     "output_type": "display_data"
    }
   ],
   "source": [
    "# seaborn.factorplot(x = \"D.new\", data = df, kind=\"count\", size=6)\n",
    "folder_path = \"./data/britain/\"\n",
    "folder_path = \"./data/holland/\"\n",
    "files = [folder_path + \"/\" + x for x in os.listdir(folder_path)][:2]\n",
    "f, axes = plt.subplots(len(files) // 2 + 1, 2, figsize=(14, 10))\n",
    "for i, file in enumerate(files):\n",
    "    df = pd.read_csv(file, sep = \"\\t\")\n",
    "    align_df(df, Dsegments, 3)\n",
    "    axes[i // 2][i % 2].set_ylabel(file)"
   ]
  },
  {
   "cell_type": "code",
   "execution_count": 93,
   "metadata": {
    "collapsed": false
   },
   "outputs": [
    {
     "name": "stdout",
     "output_type": "stream",
     "text": [
      "-TGTGCTTTT-\n",
      "*TGTG******\n",
      "(8.0, 1, 5)\n"
     ]
    },
    {
     "data": {
      "text/plain": [
       "2"
      ]
     },
     "execution_count": 93,
     "metadata": {},
     "output_type": "execute_result"
    }
   ],
   "source": [
    "seq1 = \"TGTGCTTTT\"\n",
    "seq2 = \"GTGTGGGGAGA\"\n",
    "a = pairwise2.align.localms(seq1, seq2, 2, -1, -3, -3, penalize_end_gaps = False)[0]\n",
    "pretty(cut_ends(a))\n",
    "print(a[2:])\n",
    "    \n",
    "if ():\n",
    "    print(\"!\")\n",
    "    \n",
    "df[\"newcol\"] = 1\n",
    "df\n",
    "\n",
    "5 // 2"
   ]
  }
 ],
 "metadata": {
  "kernelspec": {
   "display_name": "Python 3",
   "language": "python",
   "name": "python3"
  },
  "language_info": {
   "codemirror_mode": {
    "name": "ipython",
    "version": 3
   },
   "file_extension": ".py",
   "mimetype": "text/x-python",
   "name": "python",
   "nbconvert_exporter": "python",
   "pygments_lexer": "ipython3",
   "version": "3.5.1"
  }
 },
 "nbformat": 4,
 "nbformat_minor": 0
}
